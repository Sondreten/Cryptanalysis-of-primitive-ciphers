{
 "cells": [
  {
   "cell_type": "code",
   "execution_count": 1,
   "metadata": {},
   "outputs": [],
   "source": [
    "### Assignment 1 in DAT510. Cryptanalysis of primitive ciphers ###\n",
    "### Part 2. Simplified DES\n",
    "\n",
    "#Import all constants\n",
    "\n",
    "key_length = 10\n",
    "subkey_length = 8\n",
    "\n",
    "P10 = (3,5,2,7,4,10,1,9,8,6)\n",
    "P8 = (6,3,7,4,8,5,10,9)\n",
    "IP = (2,6,3,1,4,8,5,7)\n",
    "Ipinverse = (4,1,3,5,7,2,8,6)\n",
    "EP = (4,1,2,3,2,3,4,1)\n",
    "S0 = (1,0,3,2,3,2,1,0,0,2,1,3,3,1,3,2)\n",
    "S1 = (0,1,2,3,2,0,1,3,3,0,1,0,2,1,0,3)\n",
    "P4 = (2,4,3,1)"
   ]
  },
  {
   "cell_type": "code",
   "execution_count": 1,
   "metadata": {},
   "outputs": [],
   "source": [
    "def Ipinverse_func(inputByte):\n",
    "    return perm(inputByte, Ipinverse)"
   ]
  },
  {
   "cell_type": "code",
   "execution_count": 3,
   "metadata": {},
   "outputs": [],
   "source": [
    "def ip(inputByte):\n",
    "    return perm(inputByte, IP)"
   ]
  },
  {
   "cell_type": "code",
   "execution_count": 4,
   "metadata": {},
   "outputs": [],
   "source": [
    "def key_gen(key):\n",
    "    keyList = [(key & 1 << i) >> i for i in reversed(range(key_length))]\n",
    "    permKeyList = [None] * key_length\n",
    "    for index, elem in enumerate(P10):\n",
    "        permKeyList[index] = keyList[elem - 1]\n",
    "    shiftedOnceKey = leftShift(permKeyList)\n",
    "    shiftedTwiceKey = leftShift(leftShift(shiftedOnceKey))\n",
    "    subKey1 = subKey2 = 0\n",
    "    for index, elem in enumerate(P8):\n",
    "        subKey1 += (128 >> index) * shiftedOnceKey[elem - 1]\n",
    "        subKey2 += (128 >> index) * shiftedTwiceKey[elem - 1]\n",
    "    return (subKey1, subKey2)"
   ]
  },
  {
   "cell_type": "code",
   "execution_count": 5,
   "metadata": {},
   "outputs": [],
   "source": [
    "def decrypt(key, ciphertext):\n",
    "    data = fk(key_gen(key)[1], ip(ciphertext))\n",
    "    return Ipinverse_func(fk(key_gen(key)[0], swapNibbles(data)))"
   ]
  },
  {
   "cell_type": "code",
   "execution_count": 6,
   "metadata": {},
   "outputs": [],
   "source": [
    "def encrypt(key, plaintext):\n",
    "    data = fk(key_gen(key)[0], ip(plaintext))\n",
    "    return Ipinverse_func(fk(key_gen(key)[1], swapNibbles(data)))"
   ]
  },
  {
   "cell_type": "code",
   "execution_count": 7,
   "metadata": {},
   "outputs": [],
   "source": [
    "def fk(subKey, inputData):\n",
    "    def F(sKey, rightNibble):\n",
    "        aux = sKey ^ perm(swapNibbles(rightNibble), EP)\n",
    "        index1 = ((aux & 0x80) >> 4) + ((aux & 0x40) >> 5) + \\\n",
    "                 ((aux & 0x20) >> 5) + ((aux & 0x10) >> 2)\n",
    "        index2 = ((aux & 0x08) >> 0) + ((aux & 0x04) >> 1) + \\\n",
    "                 ((aux & 0x02) >> 1) + ((aux & 0x01) << 2)\n",
    "        sboxOutputs = swapNibbles((S0[index1] << 2) + S1[index2])\n",
    "        return perm(sboxOutputs, P4)\n",
    " \n",
    "    leftNibble, rightNibble = inputData & 0xf0, inputData & 0x0f\n",
    "    return (leftNibble ^ F(subKey, rightNibble)) | rightNibble"
   ]
  },
  {
   "cell_type": "code",
   "execution_count": 8,
   "metadata": {},
   "outputs": [],
   "source": [
    "def perm(inputByte, permTable):\n",
    "    outputByte = 0\n",
    "    for index, elem in enumerate(permTable):\n",
    "        if index >= elem:\n",
    "            outputByte |= (inputByte & (128 >> (elem - 1))) >> (index - (elem - 1))\n",
    "        else:\n",
    "            outputByte |= (inputByte & (128 >> (elem - 1))) << ((elem - 1) - index)\n",
    "    return outputByte"
   ]
  },
  {
   "cell_type": "code",
   "execution_count": 9,
   "metadata": {},
   "outputs": [],
   "source": [
    "def swapNibbles(inputByte):\n",
    "    return (inputByte << 4 | inputByte >> 4) & 0xff"
   ]
  },
  {
   "cell_type": "code",
   "execution_count": 10,
   "metadata": {},
   "outputs": [],
   "source": [
    "def leftShift(keyBitList):\n",
    "    shiftedKey = [None] * key_length\n",
    "    shiftedKey[0:9] = keyBitList[1:10]\n",
    "    shiftedKey[4] = keyBitList[0]\n",
    "    shiftedKey[9] = keyBitList[5]\n",
    "    return shiftedKey"
   ]
  },
  {
   "cell_type": "code",
   "execution_count": 11,
   "metadata": {},
   "outputs": [
    {
     "name": "stdout",
     "output_type": "stream",
     "text": [
      "Enter e/E for Encrypt, d/D for Decrypt and 0 to exit: e\n",
      "Input binary value of Raw Key: 1111111111\n",
      "Input binary value of Plaintext: 00000000\n",
      "encrypted result:  0b11101011\n",
      "Enter e/E for Encrypt, d/D for Decrypt and 0 to exit: 0\n"
     ]
    }
   ],
   "source": [
    "if __name__ == '__main__':\n",
    "    choice = ''\n",
    "    while choice != \"0\":\n",
    "        choice = input('Enter e/E for Encrypt, d/D for Decrypt and 0 to exit: ')\n",
    "        if choice.lower()=='e':\n",
    "            k = int(input(\"Input binary value of Raw Key: \"), 2)\n",
    "            pt = int(input(\"Input binary value of Plaintext: \"), 2)\n",
    "            print(\"encrypted result: \",bin(encrypt(k, pt)))\n",
    "        elif choice.lower()=='d':\n",
    "        #elif choice.lower().startswith('d'):\n",
    "            k1 = int(input(\"Input binary value of Raw Key: \"), 2)\n",
    "            ct = int(input(\"Input binary value of Ciphertext: \"), 2)\n",
    "            print(\"decrypted result: \", bin(decrypt(k1, ct)))\n",
    "        elif choice != '0':\n",
    "            print ('You have entered an invalid input, please try again. \\n\\n')\n",
    "    exit()"
   ]
  },
  {
   "cell_type": "code",
   "execution_count": null,
   "metadata": {},
   "outputs": [],
   "source": []
  }
 ],
 "metadata": {
  "kernelspec": {
   "display_name": "Python 3",
   "language": "python",
   "name": "python3"
  },
  "language_info": {
   "codemirror_mode": {
    "name": "ipython",
    "version": 3
   },
   "file_extension": ".py",
   "mimetype": "text/x-python",
   "name": "python",
   "nbconvert_exporter": "python",
   "pygments_lexer": "ipython3",
   "version": "3.6.5"
  }
 },
 "nbformat": 4,
 "nbformat_minor": 2
}
