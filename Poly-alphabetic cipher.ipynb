{
 "cells": [
  {
   "cell_type": "code",
   "execution_count": 250,
   "metadata": {},
   "outputs": [],
   "source": [
    "### Assignment 1 in DAT510. Cryptanalysis of primitive ciphers ###\n",
    "### Part 1. Poly-alphabetic Ciphers ###\n",
    "\n",
    "### Task 1: Decipher cipher with key length no longer than 10\n",
    "\n",
    "#Array of the letter frequency of the letters in the English language. Data gathered from https://www3.nd.edu/~busiforc/handouts/cryptography/letterfrequencies.html\n",
    "letter_frequency = [0.084966,0.020720,0.045388,0.033844,0.111607,0.018121,0.024705,0.030034,0.075448,0.001965,0.011016,0.054893,0.030129,0.066544,0.071635,0.031671,0.001962,0.075809,0.057351,0.069509,0.036308,0.010074,0.012899,0.002902,0.017779,0.002722]\n",
    "\n",
    "#Cipher to decrypt\n",
    "cipher_to_decrypt = \"BQZRMQ KLBOXE WCCEFL DKRYYL BVEHIZ NYJQEE BDYFJO PTLOEM EHOMIC UYHHTS GKNJFG EHIMK NIHCTI HVRIHA RSMGQT RQCSXX CSWTNK PTMNSW AMXVCY WEOGSR FFUEEB DKQLQZ WRKUCO FTPLOT GOJZRI XEPZSE ISXTCT WZRMXI RIHALE SPRFAE FVYORI HNITRG PUHITM CFCDLA HIBKLH RCDIMT WQWTOR DJCNDY YWMJCN HDUWOF DPUPNG BANULZ NGYPQU LEUXOV FFDCEE YHQUXO YOXQUO DDCVIR RPJCAT RAQVFS AWMJCN HTSOXQ UODDAG BANURR REZJGD VJSXOO MSDNIT RGPUHN HRSSSF VFSINH MSGPCM ZJCSLY GEWGQT DREASV FPXEAR IMLPZW EHQGMG WSEIXE GQKPRM XIBFWL IPCHYM OTNXYV FFDCEE YHASBA TEXCJZ VTSGBA NUDYAP IUGTLD WLKVRI HWACZG PTRYCE VNQCUP AOSPEU KPCSNG RIHLRI KUMGFC YTDQES DAHCKP BDUJPX KPYMBD IWDQEF WSEVKT CDDWLI NEPZSE OPYIW\"\n",
    "\n",
    "#Max key length\n",
    "key_length_max = 10\n",
    "\n",
    "#English alphabet\n",
    "english_alphabet = ['a','b','c','d','e','f','g','h','i','j','k','l','m','n','o','p','q','r','s','t','u','v','w','x','y','z']"
   ]
  },
  {
   "cell_type": "code",
   "execution_count": 251,
   "metadata": {},
   "outputs": [],
   "source": [
    "# Get key using freq_analysis function.\n",
    "def get_cipher_key(cipher_to_decrypt, key_length):\n",
    "    key = ''\n",
    "    key_length_range = range(key_length)\n",
    "\n",
    "    # Calculate letter frequency table for each letter of the key\n",
    "    for i in key_length_range:\n",
    "        sequence=\"\"\n",
    "        \n",
    "        # breaks the ciphertext into sequences\n",
    "        for j in range(len(0,cipher_to_decrypt[i:]), key_length):\n",
    "            sequence+=cipher_to_decrypt[i+j]\n",
    "        key+=freq_analysis(sequence)\n",
    "    return key"
   ]
  },
  {
   "cell_type": "code",
   "execution_count": 252,
   "metadata": {},
   "outputs": [],
   "source": [
    "def freq_analysis(sequence):\n",
    "    all_chi_squareds = [0] * 26\n",
    "\n",
    "    for i in range(26):\n",
    "\n",
    "        chi_squared_sum = 0.0\n",
    "        \n",
    "        sequence_offset = [chr(((ord(sequence[j])-97-i)%26)+97) for j in range(len(sequence))]\n",
    "        v = [0] * 26\n",
    "        for l in sequence_offset:\n",
    "            v[ord(l) - ord('a')] += 1\n",
    "        for j in range(26):\n",
    "            v[j] *= (1.0/float(len(sequence)))\n",
    "\n",
    "        for j in range(26):\n",
    "            chi_squared_sum+=((v[j] - float(letter_frequency[j]))**2)/float(letter_frequency[j])\n",
    "\n",
    "        all_chi_squareds[i] = chi_squared_sum\n",
    "    shift = all_chi_squareds.index(min(all_chi_squareds))\n",
    "\n",
    "    return chr(shift+97)"
   ]
  },
  {
   "cell_type": "code",
   "execution_count": 253,
   "metadata": {},
   "outputs": [],
   "source": [
    "def decrypt(ciphertext, key):\n",
    "    cipher_ascii = [ord(letter) for letter in ciphertext]\n",
    "    key_ascii = [ord(letter) for letter in key]\n",
    "    plain_ascii = []\n",
    "\n",
    "    for i in range(len(cipher_ascii)):\n",
    "        plain_ascii.append(((cipher_ascii[i]-key_ascii[i % len(key)]) % 26) +97)\n",
    "\n",
    "    plaintext = ''.join(chr(i) for i in plain_ascii)\n",
    "    return plaintext"
   ]
  },
  {
   "cell_type": "code",
   "execution_count": 254,
   "metadata": {},
   "outputs": [],
   "source": [
    "def find_key_length(ciphertextfiltered,key_length):\n",
    "    key_length = key_length+1\n",
    "    \n",
    "    for x in range(key_length):\n",
    "        if x != 0:\n",
    "            key = get_key(ciphertextfiltered, x)\n",
    "            plaintext = decrypt(ciphertextfiltered, key)\n",
    "\n",
    "            print(\"Key: {}\".format(key))\n",
    "            print(\"Plaintext: {}\".format(plaintext))"
   ]
  },
  {
   "cell_type": "code",
   "execution_count": 255,
   "metadata": {},
   "outputs": [],
   "source": [
    "def filtertext(text):\n",
    "    text.lower()\n",
    "    text.replace(\" \", \"\")\n",
    "    \n",
    "    return text"
   ]
  },
  {
   "cell_type": "code",
   "execution_count": 256,
   "metadata": {
    "scrolled": true
   },
   "outputs": [
    {
     "name": "stdout",
     "output_type": "stream",
     "text": [
      "Key: u\n",
      "Plaintext: bqzrmqtklboxetwccefltdkryyltbvehiztnyjqeetbdyfjotptloemtehomictuyhhtstgknjfgtehimktnihctithvrihatrsmgqttrqcsxxtcswtnktptmnswtamxvcytweogsrtffueebtdkqlqztwrkucotftplottgojzritxepzsetisxtcttwzrmxitrihaletsprfaetfvyorithnitrgtpuhitmtcfcdlathibklhtrcdimttwqwtortdjcndytywmjcnthduwoftdpupngtbanulztngypqutleuxovtffdceetyhquxotyoxquotddcvirtrpjcattraqvfstawmjcnthtsoxqtuoddagtbanurrtrezjgdtvjsxootmsdnittrgpuhnthrsssftvfsinhtmsgpcmtzjcslytgewgqttdreasvtfpxeartimlpzwtehqgmgtwseixetgqkprmtxibfwltipchymtotnxyvtffdceetyhasbattexcjztvtsgbatnudyaptiugtldtwlkvrithwaczgtptrycetvnqcuptaospeutkpcsngtrihlritkumgfctytdqestdahckptbdujpxtkpymbdtiwdqeftwsevkttcddwlitnepzsetopyiw\n",
      "Key: uu\n",
      "Plaintext: bqzrmqtklboxetwccefltdkryyltbvehiztnyjqeetbdyfjotptloemtehomictuyhhtstgknjfgtehimktnihctithvrihatrsmgqttrqcsxxtcswtnktptmnswtamxvcytweogsrtffueebtdkqlqztwrkucotftplottgojzritxepzsetisxtcttwzrmxitrihaletsprfaetfvyorithnitrgtpuhitmtcfcdlathibklhtrcdimttwqwtortdjcndytywmjcnthduwoftdpupngtbanulztngypqutleuxovtffdceetyhquxotyoxquotddcvirtrpjcattraqvfstawmjcnthtsoxqtuoddagtbanurrtrezjgdtvjsxootmsdnittrgpuhnthrsssftvfsinhtmsgpcmtzjcslytgewgqttdreasvtfpxeartimlpzwtehqgmgtwseixetgqkprmtxibfwltipchymtotnxyvtffdceetyhasbattexcjztvtsgbatnudyaptiugtldtwlkvrithwaczgtptrycetvnqcuptaospeutkpcsngtrihlritkumgfctytdqestdahckptbdujpxtkpymbdtiwdqeftwsevkttcddwlitnepzsetopyiw\n",
      "Key: juu\n",
      "Plaintext: mqzcmqeklmoxptwnceqltokrjylebvphiktnjjqpetmdyqjoeptwoextesomtctfyhstsegkyjfrtesimvtnthceitsvrthaersxgqetrbcsixtnswenkeptxnshtaxxvnytheorsrefffeemtdvqlbzthrkfcoeftaloetgzjzcitiepkseeisitcetwkrmiitcihlleespcfaptfgyocitsniergepusitxtcqcdwatsibvlhercoimetwbwtzrtojcydyeywxjcythouwzftopuangebayulktnrypbutweuioveffoceptysquiotjoxbuoeddnvictrajclttcaqgfseawxjcythesoiqtfodoagebayurctrpzjrdtgjsiooemsonietrrpusntsrsdsfevfdinstmdgpnmtkjcdlyegehgqetdceadvtqpxpareimwpzhtesqgxgthsetxeegqvprxtxtbfhlttpcsymeotyxygtfqdcpetjhadbaeteicjktvesgmatyudjapeiurtlotwwkvcitswanzgeptcycptvyqcfptlosaeuekpnsnrtrthlcitvumrfceytoqedtdlhcvptmduupxekpjmbotihdqpfthsegktecdowlttnppzdetzpytw\n",
      "Key: wwuu\n",
      "Plaintext: zozrkotkjzoxcrwcacflrbkrwwltztehgxtnwhqecrbdwdjorntlmcmtcfomgatuwfhtqrgklhfgrchikitngfctgrhvpgharpsmeottpocsvvtcqutnirptklswrymxtaytucogqptfdseezrdkojqzrurksaotdrplmrtgmhzrgrxenxsergsxrattuxrmvgtrgfalcrsppdaerdvympitflitpetpsfitkrcfablarfibijhtpadikrtwoutoprdjaldyrwwmhantfbuwmdtdnspnerbalslzrlgynoutjcuxmttfdbcecryhosxorwoxosotbbcvgptrnhcarrraotfsrywmhantfrsovotumbdaerbalsrrrpezhedtthsxmmtmqbnirrrgnshnrfrsqqfttdsilftmqepckrzjaqlyreeweottbpeaqttfnveaprimjnzwrchqekgtuqeivctgoiprkrxizdwlrgpcfwmtmrnxwttfdbcecryhyqbarrexahzttrsgzytnsbyanriuerldrulktpitfuacxetprpyccrvnoaupryosncutincsletrgflrgrkukefcrwtdocstbyhcintbbsjpvrkpwkbdrgwdocftuqevirtcbbwlgrnenxsermpygu\n",
      "Key: ufjju\n",
      "Plaintext: bfkcmqivwbompewcrpqltsvcyyaemvewtktnnubeeimoyfyzeptazpmttszmirefyhwedtgzyufgipsimzeyihretthkcthaicdmgfeerqrdixtrdhtnzeatmcdhtabigcyihpoghceffjppbtsvblqoehrkjnztfiawotirzjzgtexeekdetxditciehzrbittrxslleidarfppefvnzcitwyttrveauhxextcunolaistbkasercstxttlbhtogeojccojtylxucnisouwdqedpjaygtqlyuloeygyebftltfioviqqdctpeyhffiotnziqudeodcktctreunaticlqvudeawbunntwedoxfefodslrtbpyfrricpzjvoevjhizotbdoniiecgpjsythgddsfigqsicsemsvanmtounslnerewvbetdgplsviqaxepceimaakwttsbgmvehsexiptgfvarmiitbflweiprsjmtdeyxykeqfdrpptywldbaiepxcykevthrmatcfoyaeetugiwotwavgriishacoreptgjnetkybcueelosepftkendngicthlgtekubrqctneoqeheoahrvatbsfupxivaymqoeiwsbpftldpvkienddlwttntakseizayil\n",
      "Key: uffjuu\n",
      "Plaintext: bfocmqtzamoxeilncefaiokrynaebvewxktnyyfpetbsnqjoteiwoemitsomirifyhhihegknyurtehxbvtniwreithkgthatghxgqtigbcsxminswtczeptmchhtammknytwtdrsrtuufeebisvqlqoihrkurdeftpadetgoyocitxteksetxhitctilkrmxxicihaatesprupptfvndcithcxergtejsitmirqcdlpisibkawercdxbetwqlizrtdyrydytnlxjcniwouwouiopupcvebanjaktngnebutltjiovtuuoceeinsquxdijoxqjdeddckxctrpyrlttrpfgfstplxjcniwesoxfifoddpvebanjgctreoyrdtvyhiootbhonitigrpuhcisrsshuevfsxcstmsvenmtzyrdlytvthgqtisceaskiqpxepgeimleohtehfvxgtwhttxetvfvprmimtbfwaitpchnbeotnmngtffsrpetywpdbatiticjzikesgbpiyudypeeiugiaotwlzkcithlpnzgteicyceikyqcueilosptjekpchcrtriwacitkjbrfctnioqesislhckeimdujemekpybqotiwsfpftwhtgkttrsowliicppzstizpyil\n",
      "Key: gkvtnju\n",
      "Plaintext: paystbtyvapeptkmbfmwtruqzfwtpfdipktbiirlptpnxgqztddkplxtsrnnpntiigiadtuumkmrtsrhnrenwrbupehjbhihergwfraeremryeecggsorephwmtdeaahudfewsyftyeftedfiedyakrgewfutdvefhzkpaegctyspexszytleighsdaewnblyperwrzmlesdbeblefjinspehbsssnepirhutectmcmhehwljmoerqnhnaewegspyedxmmefeykwiduehrevpmeddeooneboxtmgenuiorbelsewpceftnbfleyvatyveychpvvedrmujyerdtbbaeroaugzeakwiduehhcnyxeucncbneboxtsyersjihkevxcwpvemgnmjaeruztiuehfcrtmevtchooemgqodtezxmrmfegsgfraedfoztcefdhdbyeiavoadeevafnnewgohylegeuostexwlexseidmgzteohxwzceftnbfleyvkrchetshbkgevhcfcheninxbweiiqsmkewzuuspehkkbanephbxdlevbabvweaccofbekdmronerwrkspekiwfgjeyhnpfzedorblwebreiqeekdilckeiknpfmewgoulaecrnvmpenszytleodihx\n",
      "Key: vwvfwwuu\n",
      "Plaintext: aoygkotkkznmcrwcbcearbkrxwkiztehhxscwhqedraswdjosnsamcmtdfnbgatuxfgiqrgkmhevrchiliscgfcthrgkpghasprbeottqobhvvtcruscirptllrlrymxuaxiucogrpsudseearczojqzsuqzsaoteroamrtgnhyggrxeoxrtrgsxsasiuxrmwgsggfaldrrepdaesdunmpitglhipetptfhikrcfbbkprfibjjgipadilrsloutoqrcyaldyswvbhantgbtlmdtdosocerbamskorlgyootijcuxntsudbcedrxwosxoswnmosotcbbkgptrohbprrraptehrywmiamifrsowosjmbdafraplsrrspdohedtuhrmmmtmrbmxrrrgosgcrfrsrqeitdsimfsbqepclryyaqlysedleottcpdpqttfovdpprimknylrchqfkfiuqeiwcsvoiprlrwxzdwlsgorfwmtnrmmwttfebbtcryhzqaprrexbhyitrsgayscsbyaorhjerldsukztpitguzrxetpspxrcrvnpateryosoctiincsmesggflrhrjjkefcswssocstcygrintbcsievrkpxkasrgwdpceiuqevjrsrbbwlhrmtnxsesmongu\n",
      "Key: njwjuufhu\n",
      "Plaintext: ibxcmqixlizvptwrpemwrokrnllamtphiognfuopetqqymumeptabetecsomxptbjfstsitkuudrtewvmrelthcivtogpthaiestroetrfpseirnswiakaarxnslgatitnytlrondpeffjreiebvqlfmtdcifcoistwwmetgdwzytriepofeatqitcigwgckiitgvhhwcespgsaledgyogvtoygergicuotrxtcupdslrsibzyhacaoimigwxhrzrtswcuoweywbwcuefouwdstkasangioaufjktnvlpxfrweumbvaqdocetgyobsiotnbxxfmeddriiyepajcpgtylogfsinwtuaythifoebrfodsngamyyurggrlkhrdtkwsezmemssaiaeprpuwatocqdsfiifztlstmhtpjxrkjchyyarchgqigdypydvtucxllpeimaczdecsqgbttddctxeitqrapxtxxofdwrtpcwlmazryxykgfmoapetnuazmyetempjgetesgqntufbjapivunejotwaxvytrswarmgaarcyctgvubafptpbswpsekprfnnepthlgvtrfkrfciltkbcdtdpucrarmduycxavnjmbsgidoopftlfecvrecdsjlpelppzhrtvawtw\n",
      "Key: uwjjawfavc\n",
      "Plaintext: bokcgoiektovpeqaryedtbvcswananeftknlndpwermosdyishtjzpgrtbneiaefsfwnrlgiyuzeiygamieycfrnhlhtctbyilregoeelormwptadhnlznolmldhnybruuyrhpiehlsxfsppvrsepdqxehlijwnlfrawirianbzptercetrwtgdinainvrrkitnpxbzderdaldpysxvwzccrwhhlreeaofxnllcdnofyibhtkjselasclltubhnmgncbclojnwlgiunrsooudzsvpsayarqummlxeyawektllcfiitizevccpesffowgtwziksdncvcttcnpedbstrclktumsswkunhrwnrgxoefibsuflbyyflpildrjeoephhrngtkdohginqypssynfgmrkfrgqmgcbseseangrodbklweryuvksldpplmtizopeyceckajyotcsbakvnvkegipnefeojmritvdlfsapasjgrdnmpyteqzbrydlyfldvyindpchkeprhaastlfosyenhmgrwonuaeujirshuaoashtpjnyrkhpuuneliqeytlknndheilhzlpteesbaeutweokchncshavanzsoihxrvaskqxsawbbpzrlmdnkrenxblfhlncakmciioqiu\n"
     ]
    }
   ],
   "source": [
    "filtered_text = filtertext(cipher_to_decrypt)\n",
    "\n",
    "# Decipher the cipher with key length 1-10.\n",
    "find_key_length(filtered_text,key_length_max)"
   ]
  },
  {
   "cell_type": "code",
   "execution_count": 257,
   "metadata": {},
   "outputs": [
    {
     "name": "stdout",
     "output_type": "stream",
     "text": [
      "Key: vwvfwwuu\n",
      "Plaintext: aoygkotkkznmcrwcbcearbkrxwkiztehhxscwhqedraswdjosnsamcmtdfnbgatuxfgiqrgkmhevrchiliscgfcthrgkpghasprbeottqobhvvtcruscirptllrlrymxuaxiucogrpsudseearczojqzsuqzsaoteroamrtgnhyggrxeoxrtrgsxsasiuxrmwgsggfaldrrepdaesdunmpitglhipetptfhikrcfbbkprfibjjgipadilrsloutoqrcyaldyswvbhantgbtlmdtdosocerbamskorlgyootijcuxntsudbcedrxwosxoswnmosotcbbkgptrohbprrraptehrywmiamifrsowosjmbdafraplsrrspdohedtuhrmmmtmrbmxrrrgosgcrfrsrqeitdsimfsbqepclryyaqlysedleottcpdpqttfovdpprimknylrchqfkfiuqeiwcsvoiprlrwxzdwlsgorfwmtnrmmwttfebbtcryhzqaprrexbhyitrsgayscsbyaorhjerldsukztpitguzrxetpspxrcrvnpateryosoctiincsmesggflrhrjjkefcswssocstcygrintbcsievrkpxkasrgwdpceiuqevjrsrbbwlhrmtnxsesmongu\n"
     ]
    }
   ],
   "source": [
    "# We can see that key length 8 is the only key length giving\n",
    "# us a sensible plaintext. Key length 8 must be correct.\n",
    "\n",
    "key_length = 8\n",
    "key = get_key(filtered_text, key_length)\n",
    "plaintext = decrypt(filtered_text, key)\n",
    "\n",
    "print('Key: ' + key)\n",
    "print('Plaintext: ' + plaintext)"
   ]
  },
  {
   "cell_type": "code",
   "execution_count": 258,
   "metadata": {},
   "outputs": [],
   "source": [
    "\n",
    "\n",
    "### Task 2: Try shorter and longer key lengths in my program to find out program execution time.\n",
    "\n"
   ]
  },
  {
   "cell_type": "code",
   "execution_count": 259,
   "metadata": {},
   "outputs": [
    {
     "name": "stdout",
     "output_type": "stream",
     "text": [
      "8.72 ms ± 674 µs per loop (mean ± std. dev. of 7 runs, 100 loops each)\n"
     ]
    }
   ],
   "source": [
    "%%timeit\n",
    "key_length = 1\n",
    "key = get_key(ciphertextfiltered, key_length)\n",
    "plaintext = decrypt(ciphertextfiltered, key)"
   ]
  },
  {
   "cell_type": "code",
   "execution_count": 260,
   "metadata": {},
   "outputs": [
    {
     "name": "stdout",
     "output_type": "stream",
     "text": [
      "9.09 ms ± 875 µs per loop (mean ± std. dev. of 7 runs, 100 loops each)\n"
     ]
    }
   ],
   "source": [
    "%%timeit\n",
    "key_length = 2\n",
    "key = get_key(ciphertextfiltered, key_length)\n",
    "plaintext = decrypt(ciphertextfiltered, key)"
   ]
  },
  {
   "cell_type": "code",
   "execution_count": 261,
   "metadata": {},
   "outputs": [
    {
     "name": "stdout",
     "output_type": "stream",
     "text": [
      "9.58 ms ± 459 µs per loop (mean ± std. dev. of 7 runs, 100 loops each)\n"
     ]
    }
   ],
   "source": [
    "%%timeit\n",
    "key_length = 3\n",
    "key = get_key(ciphertextfiltered, key_length)\n",
    "plaintext = decrypt(ciphertextfiltered, key)"
   ]
  },
  {
   "cell_type": "code",
   "execution_count": 262,
   "metadata": {},
   "outputs": [
    {
     "name": "stdout",
     "output_type": "stream",
     "text": [
      "11.4 ms ± 379 µs per loop (mean ± std. dev. of 7 runs, 100 loops each)\n"
     ]
    }
   ],
   "source": [
    "%%timeit\n",
    "key_length = 4\n",
    "key = get_key(ciphertextfiltered, key_length)\n",
    "plaintext = decrypt(ciphertextfiltered, key)"
   ]
  },
  {
   "cell_type": "code",
   "execution_count": 263,
   "metadata": {},
   "outputs": [
    {
     "name": "stdout",
     "output_type": "stream",
     "text": [
      "12.1 ms ± 481 µs per loop (mean ± std. dev. of 7 runs, 100 loops each)\n"
     ]
    }
   ],
   "source": [
    "%%timeit\n",
    "key_length = 5\n",
    "key = get_key(ciphertextfiltered, key_length)\n",
    "plaintext = decrypt(ciphertextfiltered, key)"
   ]
  },
  {
   "cell_type": "code",
   "execution_count": 264,
   "metadata": {},
   "outputs": [
    {
     "name": "stdout",
     "output_type": "stream",
     "text": [
      "11.3 ms ± 732 µs per loop (mean ± std. dev. of 7 runs, 100 loops each)\n"
     ]
    }
   ],
   "source": [
    "%%timeit\n",
    "key_length = 6\n",
    "key = get_key(ciphertextfiltered, key_length)\n",
    "plaintext = decrypt(ciphertextfiltered, key)"
   ]
  },
  {
   "cell_type": "code",
   "execution_count": 265,
   "metadata": {},
   "outputs": [
    {
     "name": "stdout",
     "output_type": "stream",
     "text": [
      "11.4 ms ± 718 µs per loop (mean ± std. dev. of 7 runs, 100 loops each)\n"
     ]
    }
   ],
   "source": [
    "%%timeit\n",
    "key_length = 7\n",
    "key = get_key(ciphertextfiltered, key_length)\n",
    "plaintext = decrypt(ciphertextfiltered, key)"
   ]
  },
  {
   "cell_type": "code",
   "execution_count": 266,
   "metadata": {},
   "outputs": [
    {
     "name": "stdout",
     "output_type": "stream",
     "text": [
      "12.5 ms ± 1.24 ms per loop (mean ± std. dev. of 7 runs, 100 loops each)\n"
     ]
    }
   ],
   "source": [
    "%%timeit\n",
    "key_length = 8\n",
    "key = get_key(ciphertextfiltered, key_length)\n",
    "plaintext = decrypt(ciphertextfiltered, key)"
   ]
  },
  {
   "cell_type": "code",
   "execution_count": 267,
   "metadata": {},
   "outputs": [
    {
     "name": "stdout",
     "output_type": "stream",
     "text": [
      "11.8 ms ± 864 µs per loop (mean ± std. dev. of 7 runs, 100 loops each)\n"
     ]
    }
   ],
   "source": [
    "%%timeit\n",
    "key_length = 9\n",
    "key = get_key(ciphertextfiltered, key_length)\n",
    "plaintext = decrypt(ciphertextfiltered, key)"
   ]
  },
  {
   "cell_type": "code",
   "execution_count": 268,
   "metadata": {},
   "outputs": [
    {
     "name": "stdout",
     "output_type": "stream",
     "text": [
      "11.6 ms ± 102 µs per loop (mean ± std. dev. of 7 runs, 100 loops each)\n"
     ]
    }
   ],
   "source": [
    "%%timeit\n",
    "key_length = 10\n",
    "key = get_key(ciphertextfiltered, key_length)\n",
    "plaintext = decrypt(ciphertextfiltered, key)"
   ]
  },
  {
   "cell_type": "code",
   "execution_count": 269,
   "metadata": {},
   "outputs": [],
   "source": [
    "\n",
    "\n",
    "### Task 3: Reproduce another cipher\n",
    "\n"
   ]
  },
  {
   "cell_type": "code",
   "execution_count": 270,
   "metadata": {},
   "outputs": [],
   "source": [
    "cipher_to_decrypt2 = 'BQZRMQ KLAYAV AYITET EOFGWT EALRRD HNIFML BIHHQY XXEXYV LPHFLW UOJILE GSDLKH BZGCTA LHKAIZ BIOIGK SZXLZS UTCPZW JHNPUS MSDITN OSKSJI EOKVIL BKMSZB XZOEHA KTAWXP WLUEJM AIWGLR TZLVHZ SATVQI HZWAXX ZXDCIV TMLBIQ RWZMLB VNGVQK AIZBXZ HVVMMA MJLRIW GKITZL VHZRRV YCBTVM FVOIYE FSKGKJ AVWHUV BUHZSA EFLHMQ HHVSGZ XIKYTS YZXUUC KBTOGU VABLDP BGJCGF NLIIYA HJFWGG PSCPVA ZEASME MLGOYR CGFXVG EJTTTW TSAAIL QFKEEP CPULXW WZRLVI VVYUMS MSILRI IBLWJI TKWUXZ GUZEJG DUCQEE QEOBTP SIHTGW UALVMA ILTAEZ TFLDPE IVEGYH PLZRTC YJVYGX ABFNPQ XLCEYA RGIFCC WHBGIF WSYLBZ MDWFPX KZSYCY APJTFR CKTYYU YICYLR ZALETS DWHMGR PTTGUW CGFNTB JTRNWR AADNPQ XLTBGP RZMJTF KGTSPV DTVAPE ZPRIP'\n",
    "filtered_text2 = filtertext(cipher_to_decrypt2)\n",
    "\n",
    "plaintext2 = decrypt(filtered_text2,'bdlaekcy')"
   ]
  },
  {
   "cell_type": "code",
   "execution_count": 271,
   "metadata": {},
   "outputs": [
    {
     "data": {
      "text/plain": [
       "'uhilcalgerhuldsubknnjogbzncnukdnkucbdsxiekkcxriumogyninpegqzbglqharfudyowctbjlrcvkjnbrcwbqcvyyacdkbtnvromlcwfjopcywjkclilurnddgodjscjoggozunrueosscrpywdtktnqgplmnuouteptzfabblpscebpdkwmmzcjrrstognphvybmcncvtejkaqpwdxmmwalacptzivnjldomvgqdefeirqjqcemqunlrrnkmcssllrfkopesqamwbewubptmfbkflxnyimqdwbeyvkjrzrlxinnscumjcsphmqvktvjyyqmmjvbnhpuxswwpljezrsqdzfynpajzkyimjnposofvcgbqgukklavhncmvsnjdopmjjuyvlmybnyfdulncgqjgrnemrnlfqqfjcgisdnbkrvbgbemktqkhrpzliyzqlzntzyudiahscjjcadmxfnkkdrfrccbdsaskczbnhamzeywizpiciljmlucmhandsxyeykjhdyxpjnhqabvtcqxlyeykfmovtvmdmqvzppdqbssilwiaczhdugmphojiayrcanpkdamjcxmreckkynjqmsmtpzddtpckahmblwtuwjgdphmspjjbrickonaqloimcxjfslxkijhsh'"
      ]
     },
     "execution_count": 271,
     "metadata": {},
     "output_type": "execute_result"
    }
   ],
   "source": [
    "plaintext2"
   ]
  },
  {
   "cell_type": "code",
   "execution_count": 272,
   "metadata": {},
   "outputs": [],
   "source": [
    "### I was not able to decrypt the second cipher with the same key as I used in the previous cipher."
   ]
  }
 ],
 "metadata": {
  "kernelspec": {
   "display_name": "Python 3",
   "language": "python",
   "name": "python3"
  },
  "language_info": {
   "codemirror_mode": {
    "name": "ipython",
    "version": 3
   },
   "file_extension": ".py",
   "mimetype": "text/x-python",
   "name": "python",
   "nbconvert_exporter": "python",
   "pygments_lexer": "ipython3",
   "version": "3.6.5"
  }
 },
 "nbformat": 4,
 "nbformat_minor": 2
}
